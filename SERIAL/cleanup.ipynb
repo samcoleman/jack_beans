{
 "cells": [
  {
   "cell_type": "code",
   "execution_count": 6,
   "metadata": {},
   "outputs": [],
   "source": [
    "import json\n",
    "import pandas as pd"
   ]
  },
  {
   "cell_type": "code",
   "execution_count": 33,
   "metadata": {},
   "outputs": [],
   "source": [
    "def export_file(filename):\n",
    "    print(f'Exporting {filename}')\n",
    "    with open(f'SERIAL_CAPTURE/{filename}.json') as f:\n",
    "        d = json.load(f)\n",
    "\n",
    "\n",
    "    def strip_data(packet, len):\n",
    "        hex = packet.split(\":\")\n",
    "        hex = hex[-len:]\n",
    "        return ''.join(hex)\n",
    "\n",
    "    data = []\n",
    "\n",
    "    for packet in d:\n",
    "\n",
    "        data_len = int(packet['_source']['layers']['usb']['usb.data_len'])\n",
    "\n",
    "        packet_str = packet['_source']['layers']['ftdi-ft']\n",
    "\n",
    "        elem = {}\n",
    "\n",
    "        if \"ftdi-ft.if_a_tx_payload\" in packet_str:\n",
    "            #tx\n",
    "            elem = {\n",
    "            \"dir\": \"tx\",\n",
    "            \"packet\": strip_data(packet_str[\"ftdi-ft.if_a_tx_payload\"], data_len),\n",
    "            \"len\": data_len,\n",
    "            }\n",
    "        else:\n",
    "            #rx\n",
    "            elem = {\n",
    "            \"dir\": \"rx\",\n",
    "            \"packet\": strip_data(packet_str[\"ftdi-ft.if_a_rx_payload\"], data_len),\n",
    "            \"len\": data_len,\n",
    "            }\n",
    "\n",
    "        data.append(elem)\n",
    "\n",
    "    df = pd.DataFrame(data)\n",
    "\n",
    "    # Create an empy dataframe with the same columns as df\n",
    "    df_concat = pd.DataFrame(columns=df.columns)\n",
    "\n",
    "    #itterate over df \n",
    "\n",
    "    # COMINE PACKETS\n",
    "    packet = \"\"\n",
    "    length = len(df)\n",
    "    for index, row in df.iterrows():\n",
    "        direction = row['dir']\n",
    "        packet = packet + row['packet']\n",
    "\n",
    "\n",
    "        if index == length - 1:\n",
    "            # Over 2 as two chars per byte\n",
    "            df_row = pd.DataFrame([[row['dir'], packet, int(len(packet)/2)]], columns=df.columns)\n",
    "            df_concat = pd.concat([df_concat, df_row])\n",
    "            packet = \"\"\n",
    "            break\n",
    "            \n",
    "\n",
    "        if df.iloc[index+1]['dir'] != direction:\n",
    "            df_row = pd.DataFrame([[row['dir'], packet, int(len(packet)/2)]], columns=df.columns)\n",
    "            df_concat = pd.concat([df_concat, df_row])\n",
    "            packet = \"\"\n",
    "        \n",
    "\n",
    "    df_concat.to_csv(f'SERIAL_CAPTURE/{filename}.csv', index=False)"
   ]
  },
  {
   "cell_type": "code",
   "execution_count": 35,
   "metadata": {},
   "outputs": [
    {
     "name": "stdout",
     "output_type": "stream",
     "text": [
      "Exporting button_press_mocha\n",
      "Exporting button_press_other\n",
      "Exporting button_press_white_coffee\n",
      "Exporting button_press_cappuccino\n",
      "Exporting button_press_hot_chocolate\n",
      "Exporting americano_press\n",
      "Exporting button_press_latte_works\n",
      "Exporting button_press_hot_water\n",
      "Exporting button_press_latte\n"
     ]
    }
   ],
   "source": [
    "#get list of file in directory with extension json and remove extension\n",
    "\n",
    "# WIRESHARK FILTER -> ftdi-ft&&(ftdi-ft.if_a_rx_payload||ftdi-ft.if_a_tx_payload)\n",
    "import os\n",
    "files = [f.split('.')[0] for f in os.listdir('SERIAL_CAPTURE') if f.endswith('.json')]\n",
    "\n",
    "for file in files:\n",
    "    export_file(file)"
   ]
  },
  {
   "cell_type": "code",
   "execution_count": 42,
   "metadata": {},
   "outputs": [
    {
     "name": "stdout",
     "output_type": "stream",
     "text": [
      "[240, 23, 0, 5, 0, 1, 0, 0, 0, 1, 0, 2, 73, 1, 0, 0, 0, 0, 0, 0, 0, 0, 0, 0, 0, 1, 84]\n"
     ]
    }
   ],
   "source": [
    "tx = \"f01700050001000000010002490100000000000000000000000154\"\n",
    "\n",
    "\n",
    "n= 2\n",
    "chunks = [tx[i:i+n] for i in range(0, len(tx), n)]\n",
    "\n",
    "#print(chunks)\n",
    "dec = []\n",
    "for byte in chunks:\n",
    "    dec.append(int(byte, 16))\n",
    "\n",
    "print(dec)\n"
   ]
  }
 ],
 "metadata": {
  "kernelspec": {
   "display_name": "Python 3",
   "language": "python",
   "name": "python3"
  },
  "language_info": {
   "codemirror_mode": {
    "name": "ipython",
    "version": 3
   },
   "file_extension": ".py",
   "mimetype": "text/x-python",
   "name": "python",
   "nbconvert_exporter": "python",
   "pygments_lexer": "ipython3",
   "version": "3.10.9"
  },
  "orig_nbformat": 4,
  "vscode": {
   "interpreter": {
    "hash": "aee8b7b246df8f9039afb4144a1f6fd8d2ca17a180786b69acc140d282b71a49"
   }
  }
 },
 "nbformat": 4,
 "nbformat_minor": 2
}
